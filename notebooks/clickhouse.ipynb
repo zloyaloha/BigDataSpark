{
 "cells": [
  {
   "cell_type": "code",
   "execution_count": null,
   "id": "6a5a7340",
   "metadata": {},
   "outputs": [],
   "source": [
    "from pyspark.sql import SparkSession\n",
    "from pyspark.sql.functions import col, sum as spark_sum, avg, count, desc, month, year\n",
    "\n",
    "spark = SparkSession.builder \\\n",
    "    .appName(\"Sales report to ClickHouse\") \\\n",
    "    .config(\"spark.jars.packages\", \"org.postgresql:postgresql:42.2.27,com.clickhouse:clickhouse-jdbc:0.4.6\") \\\n",
    "    .getOrCreate()\n",
    "\n",
    "\n",
    "\n",
    "pg_url = \"jdbc:postgresql://postgres:5432/lab2BDA\"\n",
    "pg_properties = {\n",
    "    \"user\": \"zloyaloha\",\n",
    "    \"password\": \"12341234\",\n",
    "    \"driver\": \"org.postgresql.Driver\"\n",
    "}\n",
    "\n",
    "ch_url = \"jdbc:clickhouse://clickhouse-server:8123/default\"\n",
    "ch_properties = {\n",
    "    \"driver\": \"com.clickhouse.jdbc.ClickHouseDriver\",\n",
    "    \"user\": \"zloyaloha\",\n",
    "    \"password\": \"12341234\"\n",
    "}"
   ]
  },
  {
   "cell_type": "code",
   "execution_count": null,
   "id": "c8d1e673",
   "metadata": {},
   "outputs": [],
   "source": [
    "sales = spark.read.jdbc(pg_url, \"f_sale\", properties=pg_properties)\n",
    "products = spark.read.jdbc(pg_url, \"d_product\", properties=pg_properties)\n",
    "customers = spark.read.jdbc(pg_url, \"d_customer\", properties=pg_properties)\n",
    "stores = spark.read.jdbc(pg_url, \"d_store\", properties=pg_properties)\n",
    "suppliers = spark.read.jdbc(pg_url, \"d_supplier\", properties=pg_properties)\n",
    "ratings = spark.read.jdbc(pg_url, \"d_product_rating\", properties=pg_properties)"
   ]
  },
  {
   "cell_type": "code",
   "execution_count": null,
   "id": "d864623a-1382-4d3f-b147-53c329eee603",
   "metadata": {},
   "outputs": [],
   "source": [
    "top10_products = (\n",
    "    sales\n",
    "    .join(products.select(\"product_id\", \"name\", \"brand\", \"category\"), on=\"product_id\")\n",
    "    .groupBy(\"name\", \"brand\", \"category\")\n",
    "    .agg(\n",
    "        spark_sum(\"quantity\").alias(\"total_quantity\"),\n",
    "        spark_sum(\"total_price\").alias(\"total_revenue\")\n",
    "    )\n",
    "    .orderBy(desc(\"total_quantity\"))\n",
    "    .limit(10)\n",
    ")\n",
    "\n",
    "top10_products.show()"
   ]
  },
  {
   "cell_type": "code",
   "execution_count": null,
   "id": "679ffe28-d7c7-4e31-83da-c397ceee46e1",
   "metadata": {},
   "outputs": [],
   "source": [
    "revenue_by_category = (\n",
    "    sales.join(products.select(\"product_id\", \"category\"), \"product_id\")\n",
    "    .groupBy(\"category\")\n",
    "    .agg(spark_sum(\"total_price\").alias(\"total_revenue\"))\n",
    ")\n",
    "\n",
    "revenue_by_category.show()"
   ]
  },
  {
   "cell_type": "code",
   "execution_count": null,
   "id": "1c6091ad-d6b1-406b-946f-febbe382e72b",
   "metadata": {},
   "outputs": [],
   "source": [
    "ratings_with_product = ratings.join(\n",
    "    products.select(\"product_id\", \"name\", \"category\", \"brand\"),\n",
    "    on=\"product_id\",\n",
    "    how=\"inner\"\n",
    ")\n",
    "\n",
    "avg_rating_reviews = ratings_with_product.groupBy(\"name\", \"category\", \"brand\") \\\n",
    "    .agg(\n",
    "        avg(\"rating\").alias(\"avg_rating\"),\n",
    "        count(\"reviews\").alias(\"review_count\")\n",
    "    )\n",
    "\n",
    "avg_rating_reviews.show()"
   ]
  },
  {
   "cell_type": "code",
   "execution_count": null,
   "id": "5f9d85b6-3983-4e5f-9672-c4c56a678c15",
   "metadata": {},
   "outputs": [],
   "source": [
    "top10_products.write.jdbc(ch_url, \"product_top10\", mode=\"append\", properties=ch_properties)\n",
    "revenue_by_category.write.jdbc(ch_url, \"revenue_by_category\", mode=\"append\", properties=ch_properties)\n",
    "avg_rating_reviews.write.jdbc(ch_url, \"avg_rating_reviews\", mode=\"append\", properties=ch_properties)"
   ]
  },
  {
   "cell_type": "code",
   "execution_count": null,
   "id": "8c2e12a6-8b92-490e-90e0-e70a277fee52",
   "metadata": {},
   "outputs": [],
   "source": [
    "sales_with_customers = sales.join(customers, on=\"customer_id\")\n",
    "\n",
    "# Считаем топ-10 клиентов по сумме покупок\n",
    "top10_customers = (\n",
    "    sales_with_customers\n",
    "    .groupBy(\"first_name\", \"last_name\")\n",
    "    .agg(spark_sum(\"total_price\").alias(\"total_spent\"))\n",
    "    .orderBy(col(\"total_spent\").desc())\n",
    "    .limit(10)\n",
    ")\n",
    "\n",
    "top10_customers.show()\n"
   ]
  },
  {
   "cell_type": "code",
   "execution_count": null,
   "id": "4b6fe7d4-bf4d-4f2a-b6da-271e026f51a8",
   "metadata": {},
   "outputs": [],
   "source": [
    "country_distribution = (\n",
    "    customers\n",
    "    .groupBy(\"country\")\n",
    "    .agg(count(\"customer_id\").alias(\"customer_count\"))\n",
    "    .orderBy(col(\"customer_count\").desc())\n",
    ")\n",
    "\n",
    "country_distribution.show()"
   ]
  },
  {
   "cell_type": "code",
   "execution_count": null,
   "id": "4742e5cb-37fd-477c-a710-bf0450457e73",
   "metadata": {},
   "outputs": [],
   "source": [
    "avg_receipt = (\n",
    "    sales_with_customers\n",
    "    .groupBy(\"first_name\", \"last_name\", \"email\")\n",
    "    .agg(\n",
    "        spark_sum(\"total_price\").alias(\"total_spent\"),\n",
    "        count(\"sale_id\").alias(\"purchase_count\")\n",
    "    )\n",
    "    .withColumn(\"avg_receipt\", col(\"total_spent\") / col(\"purchase_count\"))\n",
    ")\n",
    "avg_receipt.show()"
   ]
  },
  {
   "cell_type": "code",
   "execution_count": null,
   "id": "2b3d2f20-471b-4d73-9044-c791fd545b5e",
   "metadata": {},
   "outputs": [],
   "source": [
    "top10_customers.write.jdbc(ch_url, \"top10_customers\", mode=\"append\", properties=ch_properties)\n",
    "country_distribution.write.jdbc(ch_url, \"country_distribution\", mode=\"append\", properties=ch_properties)\n",
    "avg_receipt.write.jdbc(ch_url, \"avg_receipt\", mode=\"append\", properties=ch_properties)"
   ]
  },
  {
   "cell_type": "code",
   "execution_count": null,
   "id": "6c8bd5f9-e9c1-4273-ba1e-1b636c9cc7c0",
   "metadata": {},
   "outputs": [],
   "source": [
    "from pyspark.sql.functions import year, month, to_date\n",
    "\n",
    "sales = sales.withColumn(\"sale_date\", to_date(\"sale_date\"))\n",
    "sales = sales.withColumn(\"year\", year(\"sale_date\"))\n",
    "sales = sales.withColumn(\"month\", month(\"sale_date\"))\n",
    "\n",
    "monthly_sales = (\n",
    "    sales.groupBy(\"year\", \"month\")\n",
    "    .agg(spark_sum(\"total_price\").alias(\"total_revenue\"))\n",
    "    .orderBy(\"year\", \"month\")\n",
    ")\n",
    "\n",
    "monthly_sales.show()"
   ]
  },
  {
   "cell_type": "code",
   "execution_count": null,
   "id": "6dbbe994-e31c-4ae1-9c5d-5a4f829b8401",
   "metadata": {},
   "outputs": [],
   "source": [
    "yearly_sales = (\n",
    "    sales.groupBy(\"year\")\n",
    "    .agg(spark_sum(\"total_price\").alias(\"total_revenue\"))\n",
    "    .orderBy(\"year\")\n",
    ")\n",
    "\n",
    "yearly_sales.show()"
   ]
  },
  {
   "cell_type": "code",
   "execution_count": null,
   "id": "095a0478-2d2c-40a9-b326-e18101e7e512",
   "metadata": {},
   "outputs": [],
   "source": [
    "monthly_avg_order = (\n",
    "    sales.groupBy(\"year\", \"month\")\n",
    "    .agg(\n",
    "        count(\"*\").alias(\"order_count\"),\n",
    "        spark_sum(\"total_price\").alias(\"total_revenue\"),\n",
    "        avg(\"total_price\").alias(\"avg_order_value\")\n",
    "    )\n",
    "    .orderBy(\"year\", \"month\")\n",
    ")\n",
    "\n",
    "monthly_avg_order.show()"
   ]
  },
  {
   "cell_type": "code",
   "execution_count": null,
   "id": "efbd171d-940e-41f0-889e-8fba3869e2f0",
   "metadata": {},
   "outputs": [],
   "source": [
    "monthly_sales.write.jdbc(ch_url, \"monthly_sales\", mode=\"append\", properties=ch_properties)\n",
    "yearly_sales.write.jdbc(ch_url, \"yearly_sales\", mode=\"append\", properties=ch_properties)\n",
    "monthly_avg_order.write.jdbc(ch_url, \"monthly_avg_order\", mode=\"append\", properties=ch_properties)"
   ]
  },
  {
   "cell_type": "code",
   "execution_count": null,
   "id": "b00aba95-08be-4d9a-9104-e56cd76a16d8",
   "metadata": {},
   "outputs": [],
   "source": [
    "sales_with_store = sales.join(stores, sales.store_id == stores.store_id, \"inner\")\n",
    "\n",
    "top5_stores = (\n",
    "    sales_with_store\n",
    "    .groupBy(\"name\", \"location\", \"city\")\n",
    "    .agg(spark_sum(\"total_price\").alias(\"total_revenue\"))\n",
    "    .orderBy(desc(\"total_revenue\"))\n",
    "    .limit(5)\n",
    ")\n",
    "\n",
    "top5_stores.show()"
   ]
  },
  {
   "cell_type": "code",
   "execution_count": null,
   "id": "56e2c9fa-b757-41d9-80f4-56019758af27",
   "metadata": {},
   "outputs": [],
   "source": [
    "sales_by_location = (\n",
    "    sales_with_store\n",
    "    .groupBy(\"city\", \"country\")\n",
    "    .agg(spark_sum(\"total_price\").alias(\"total_revenue\"),\n",
    "         count(\"sale_id\").alias(\"total_sales\"))\n",
    "    .orderBy(desc(\"total_revenue\"))\n",
    ")\n",
    "\n",
    "sales_by_location.show()"
   ]
  },
  {
   "cell_type": "code",
   "execution_count": null,
   "id": "ee28f54e-eae2-4f69-888c-a2b2cf693c4f",
   "metadata": {},
   "outputs": [],
   "source": [
    "avg_check_per_store = (\n",
    "    sales_with_store\n",
    "    .groupBy(\"name\", \"location\", \"city\")\n",
    "    .agg(avg(\"total_price\").alias(\"avg_receipt\"))\n",
    "    .orderBy(desc(\"avg_receipt\"))\n",
    ")\n",
    "\n",
    "avg_check_per_store.show()"
   ]
  },
  {
   "cell_type": "code",
   "execution_count": null,
   "id": "5e116fa4-51fd-4e95-9706-ee2a526c4479",
   "metadata": {},
   "outputs": [],
   "source": [
    "top5_stores.write.jdbc(ch_url, \"top5_stores\", mode=\"append\", properties=ch_properties)\n",
    "sales_by_location.write.jdbc(ch_url, \"sales_by_location\", mode=\"append\", properties=ch_properties)\n",
    "avg_check_per_store.write.jdbc(ch_url, \"avg_check_per_store\", mode=\"append\", properties=ch_properties)"
   ]
  },
  {
   "cell_type": "code",
   "execution_count": null,
   "id": "46fda4b8-3c13-4692-96fe-7608ae63f4da",
   "metadata": {},
   "outputs": [],
   "source": [
    "from pyspark.sql.functions import row_number\n",
    "from pyspark.sql.window import Window\n",
    "\n",
    "supplier_sales = sales.join(\n",
    "    suppliers.select(\"supplier_id\", \"name\", \"contact\", \"email\", \"country\"),\n",
    "    on=\"supplier_id\",\n",
    "    how=\"left\"\n",
    ")\n",
    "\n",
    "supplier_agg = supplier_sales.groupBy(\"supplier_id\", \"name\", \"contact\", \"email\", \"country\").agg(\n",
    "    spark_sum(\"total_price\").alias(\"total_revenue\"),\n",
    "    avg(col(\"total_price\") / col(\"quantity\")).alias(\"avg_unit_price\")\n",
    ")\n",
    "\n",
    "supplier_agg.show()"
   ]
  },
  {
   "cell_type": "code",
   "execution_count": null,
   "id": "f11ab52d-ac79-45d0-a798-2c40e552c067",
   "metadata": {},
   "outputs": [],
   "source": [
    "window_spec = Window.orderBy(col(\"total_revenue\").desc())\n",
    "\n",
    "top5_suppliers = supplier_agg.withColumn(\"rank\", row_number().over(window_spec)) \\\n",
    "                            .filter(col(\"rank\") <= 5) \\\n",
    "                            .drop(\"rank\")\n",
    "top5_suppliers = top5_suppliers.select(\"supplier_id\", \"name\", \"contact\", \"email\", \"total_revenue\")\n",
    "top5_suppliers.show()"
   ]
  },
  {
   "cell_type": "code",
   "execution_count": null,
   "id": "88528eb0-1f87-4024-b710-7fe5033d6c57",
   "metadata": {},
   "outputs": [],
   "source": [
    "sales_by_country = supplier_agg.groupBy(\"country\").agg(\n",
    "    spark_sum(\"total_revenue\").alias(\"total_revenue_by_country\")\n",
    ")\n",
    "\n",
    "sales_by_country.show()"
   ]
  },
  {
   "cell_type": "code",
   "execution_count": null,
   "id": "807f7ed7-032e-465e-9a1e-28a736d8886f",
   "metadata": {},
   "outputs": [],
   "source": [
    "supplier_agg.write.jdbc(ch_url, \"avg_unit_price_per_supplier\", mode=\"append\", properties=ch_properties)\n",
    "top5_suppliers.write.jdbc(ch_url, \"top5_suppliers\", mode=\"append\", properties=ch_properties)\n",
    "sales_by_country.write.jdbc(ch_url, \"sales_by_country\", mode=\"append\", properties=ch_properties)"
   ]
  },
  {
   "cell_type": "code",
   "execution_count": null,
   "id": "3ae60a86-df10-4d20-80f1-b5e716e6f08e",
   "metadata": {},
   "outputs": [],
   "source": [
    "reviews_enriched = ratings.join(\n",
    "    products.select(\"product_id\", \"name\", \"brand\", \"category\"),\n",
    "    on=\"product_id\",\n",
    "    how=\"left\"\n",
    ")\n",
    "\n",
    "sales_enriched = sales.join(\n",
    "    products.select(\"product_id\", \"name\", \"brand\", \"category\"),\n",
    "    on=\"product_id\",\n",
    "    how=\"left\"\n",
    ")"
   ]
  },
  {
   "cell_type": "code",
   "execution_count": null,
   "id": "ed014b94-f9b2-415b-91fa-d2e46330c06a",
   "metadata": {},
   "outputs": [],
   "source": [
    "review_metrics = reviews_enriched.groupBy(\"name\", \"brand\", \"category\").agg(\n",
    "    avg(\"rating\").alias(\"avg_rating\"),\n",
    "    count(\"*\").alias(\"review_count\")\n",
    ")\n",
    "\n",
    "sales_metrics = sales_enriched.groupBy(\"name\", \"brand\", \"category\").agg(\n",
    "    spark_sum(\"quantity\").alias(\"total_quantity_sold\")\n",
    ")\n",
    "\n",
    "product_quality = review_metrics.join(\n",
    "    sales_metrics,\n",
    "    on=[\"name\", \"brand\", \"category\"],\n",
    "    how=\"outer\"\n",
    ")\n",
    "\n",
    "top_rated = product_quality.orderBy(col(\"avg_rating\").desc()).limit(5)\n",
    "lowest_rated = product_quality.orderBy(col(\"avg_rating\").asc()).limit(5)\n",
    "\n",
    "top_rated.show()\n",
    "lowest_rated.show()"
   ]
  },
  {
   "cell_type": "code",
   "execution_count": null,
   "id": "b8b7ccb5-e364-4da4-bf62-4089a790eed2",
   "metadata": {},
   "outputs": [],
   "source": [
    "from pyspark.sql import Row\n",
    "\n",
    "correlation = product_quality.stat.corr(\"avg_rating\", \"total_quantity_sold\")\n",
    "corr_df = spark.createDataFrame([Row(correlation=correlation)])\n",
    "corr_df.show()"
   ]
  },
  {
   "cell_type": "code",
   "execution_count": null,
   "id": "f62f831d-9b2f-46a5-b29e-d7c2e8abf79c",
   "metadata": {},
   "outputs": [],
   "source": [
    "most_reviewed = product_quality.orderBy(col(\"review_count\").desc()).limit(5)\n",
    "least_reviewed = product_quality.orderBy(col(\"review_count\").asc_nulls_last()).limit(5)\n",
    "\n",
    "most_reviewed.show()\n",
    "least_reviewed.show()"
   ]
  },
  {
   "cell_type": "code",
   "execution_count": null,
   "id": "c007466c-9a7f-4968-82a0-ad45a3579e21",
   "metadata": {},
   "outputs": [],
   "source": [
    "most_reviewed.write.jdbc(ch_url, \"most_reviewed\", mode=\"append\", properties=ch_properties)\n",
    "least_reviewed.write.jdbc(ch_url, \"least_reviewed\", mode=\"append\", properties=ch_properties)\n",
    "corr_df.write.jdbc(ch_url, \"correlation\", mode=\"append\", properties=ch_properties)\n",
    "lowest_rated.write.jdbc(ch_url, \"lowest_rated\", mode=\"append\", properties=ch_properties)\n",
    "top_rated.write.jdbc(ch_url, \"top_rated\", mode=\"append\", properties=ch_properties)"
   ]
  },
  {
   "cell_type": "code",
   "execution_count": null,
   "id": "829977aa-7938-450a-b2f2-f6b08d05748e",
   "metadata": {},
   "outputs": [],
   "source": []
  }
 ],
 "metadata": {
  "kernelspec": {
   "display_name": "Python 3 (ipykernel)",
   "language": "python",
   "name": "python3"
  },
  "language_info": {
   "codemirror_mode": {
    "name": "ipython",
    "version": 3
   },
   "file_extension": ".py",
   "mimetype": "text/x-python",
   "name": "python",
   "nbconvert_exporter": "python",
   "pygments_lexer": "ipython3",
   "version": "3.11.6"
  }
 },
 "nbformat": 4,
 "nbformat_minor": 5
}
